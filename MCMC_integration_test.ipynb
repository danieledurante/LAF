{
 "cells": [
  {
   "cell_type": "markdown",
   "metadata": {},
   "source": [
    "# MCMC integration test\n",
    "\n",
    "Here, we'll test performance of the nGP model on sample data."
   ]
  },
  {
   "cell_type": "code",
   "execution_count": 1,
   "metadata": {
    "collapsed": false
   },
   "outputs": [],
   "source": [
    "import numpy as np\n",
    "import ngptools as ngp\n",
    "import scipy.stats as stats\n",
    "import matplotlib.pyplot as plt\n",
    "import seaborn as sns\n",
    "%matplotlib inline\n",
    "sns.set_style('darkgrid')\n",
    "\n",
    "np.random.seed(12355)  # set random seed"
   ]
  },
  {
   "cell_type": "markdown",
   "metadata": {},
   "source": [
    "### Load data"
   ]
  },
  {
   "cell_type": "code",
   "execution_count": null,
   "metadata": {
    "collapsed": true
   },
   "outputs": [],
   "source": [
    "data = np.loadtxt('data/blocks_sampled.csv', delimiter=',')\n",
    "tobs = data[:, 0]\n",
    "y = data[:, 1]\n",
    "Nt = y.size"
   ]
  },
  {
   "cell_type": "markdown",
   "metadata": {},
   "source": [
    "### Define some useful variables"
   ]
  },
  {
   "cell_type": "code",
   "execution_count": 8,
   "metadata": {
    "collapsed": false
   },
   "outputs": [],
   "source": [
    "delta = np.diff(np.concatenate([tobs, [1.1]]))\n",
    "Np, Nm, Nr = 1, 3, 3\n",
    "dims = Np, Nm, Nr"
   ]
  },
  {
   "cell_type": "code",
   "execution_count": 3,
   "metadata": {
    "collapsed": false
   },
   "outputs": [
    {
     "data": {
      "image/png": "[encoded data removed]",
      "text/plain": [
       "<matplotlib.figure.Figure at 0x106e16650>"
      ]
     },
     "metadata": {},
     "output_type": "display_data"
    }
   ],
   "source": [
    "plt.figure(figsize=(12, 8))\n",
    "plt.scatter(tobs, y)\n",
    "pass"
   ]
  },
  {
   "cell_type": "markdown",
   "metadata": {},
   "source": [
    "## Pick priors and starting values for parameters"
   ]
  },
  {
   "cell_type": "code",
   "execution_count": 4,
   "metadata": {
    "collapsed": true
   },
   "outputs": [],
   "source": [
    "sigU = 5.\n",
    "sigA = 5.\n",
    "sigeps = 2.\n",
    "sigmu = 4.\n",
    "sigalpha = 4.\n",
    "a, b = 1., 1."
   ]
  },
  {
   "cell_type": "markdown",
   "metadata": {},
   "source": [
    "## Algorithm\n",
    "\n",
    "The algorithm is as follows:\n",
    "\n",
    "1. Given the various $\\sigma^2$ parameters, perform an exact draw from the posterior for the state vector \n",
    "    $(U, DU, A)$.\n",
    "1. Given the state vector, draw\n",
    "    $$\n",
    "    \\sigma^2_\\epsilon \\sim \\text{inv-Ga}\\left( \n",
    "    a + \\frac{N_t}{2},\n",
    "    b + \\frac{1}{2} \\sum_t (y_t - U(t))^2\n",
    "    \\right)\n",
    "    $$\n",
    "1. Sample $\\sigma^2_U$ and $\\sigma^2_A$:\n",
    "\n",
    "    1. Draw a sample of the state vector, $(U^*, DU^*, A^*)$, from the approximate model.\n",
    "    1. Conditioned on this approximate state vector, sample proposed variance parameters as\n",
    "        $$\\begin{align}\n",
    "        \\sigma^2 &\\sim \\text{inv-Ga}\\left(a + \\frac{N_t}{2}, b + \\frac{1}{2} R^2 \\right) \\\\\n",
    "        R^2_U &= \\sum_j \\delta_j \\left[\\frac{DU^*(t_{j+1}) - DU^*(t_j)}{\\delta_j} - A^*(t_j) \\right]^2 \\\\\n",
    "        R^2_A &= \\sum_j \\left[\\frac{(A^*(t_{j+1}) - A^*(t_j))^2}{\\delta_j}\\right]\n",
    "        \\end{align}$$\n",
    "    1. Accept these proposals with probability $\\mathrm{min}(\\pi, 1)$ with\n",
    "        $$\n",
    "        \\pi \\equiv \\prod_j \\frac{\\mathcal{N}(\\theta_{j + 1} - G_j\\theta_j|0, W^*_j)}\n",
    "        {\\mathcal{N}(\\theta_{j + 1} - G_j\\theta_j|0, W_j)}\n",
    "        \\frac{\\mathcal{N}(\\tilde{H}^\\top (\\theta^*_{j + 1} - G_j\\theta^*_j)|0, \\tilde{W}_j)}\n",
    "        {\\mathcal{N}(\\tilde{H}^\\top (\\theta^*_{j + 1} - G_j\\theta^*_j)|0, \\tilde{W}^*_j)}\n",
    "        $$\n",
    "        (Think of this like $\\frac{P(x')}{P(x)}\\frac{g(x)}{g(x')}$, with $P$ the posterior and $g$ the proposal \n",
    "        distribution, and recall that what we are proposing is $\\sigma^2|\\theta^*$)."
   ]
  },
  {
   "cell_type": "markdown",
   "metadata": {},
   "source": [
    "### Useful functions:"
   ]
  },
  {
   "cell_type": "code",
   "execution_count": 9,
   "metadata": {
    "collapsed": true
   },
   "outputs": [],
   "source": [
    "def draw_state(sigeps, sigU, sigA, approx=False):\n",
    "    return npg.sample(y, 1, dims, delta, sigeps, sigU, sigA, sigmu, sigalpha, approx)"
   ]
  },
  {
   "cell_type": "code",
   "execution_count": 10,
   "metadata": {
    "collapsed": true
   },
   "outputs": [],
   "source": [
    "def draw_sig_eps(U):\n",
    "    a_eff = a + (Nt / 2)\n",
    "    b_eff = b + 0.5 * np.sum((y - U)**2)\n",
    "    return stats.invgamma.rvs(a=a_eff, scale=b_eff)"
   ]
  },
  {
   "cell_type": "code",
   "execution_count": null,
   "metadata": {
    "collapsed": true
   },
   "outputs": [],
   "source": []
  }
 ],
 "metadata": {
  "kernelspec": {
   "display_name": "Python 3",
   "language": "python",
   "name": "python3"
  },
  "language_info": {
   "codemirror_mode": {
    "name": "ipython",
    "version": 3
   },
   "file_extension": ".py",
   "mimetype": "text/x-python",
   "name": "python",
   "nbconvert_exporter": "python",
   "pygments_lexer": "ipython3",
   "version": "3.3.5"
  }
 },
 "nbformat": 4,
 "nbformat_minor": 0
}
