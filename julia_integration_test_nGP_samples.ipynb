{
 "cells": [
  {
   "cell_type": "markdown",
   "metadata": {},
   "source": [
    "# Let's draw samples from a nested Gaussian Process"
   ]
  },
  {
   "cell_type": "markdown",
   "metadata": {},
   "source": [
    "We will draw samples from a $(m, n) = (2, 1)$ nested Gaussian process following [Zhu and Dunson (2013)](http://amstat.tandfonline.com/doi/abs/10.1080/01621459.2013.838568). \n",
    "\n",
    "For our first trick, we assume values for the random walk and observation noise variabilities and sample from the state space model\n",
    "\n",
    "$$\\begin{align}\n",
    "Y_j &\\sim Z_j \\theta_j + \\epsilon_j \\\\\n",
    "\\theta_{j+1} &= G_j \\theta_j + \\omega_j \\\\\n",
    "\\theta &= \\begin{bmatrix} U \\\\ DU \\\\ A \\end{bmatrix} \\\\\n",
    "\\epsilon_j &\\sim \\mathcal{N}(0, \\sigma^2_\\epsilon) \\\\\n",
    "\\omega_j &\\sim \\mathcal{N}(0, W_j) \\\\\n",
    "Z_j &= \n",
    "    \\begin{pmatrix} \n",
    "    1 & 0 & 0\n",
    "    \\end{pmatrix} \\\\\n",
    "G_j &= \n",
    "    \\begin{pmatrix} \n",
    "    1 & \\delta_j & \\frac{\\delta_j^2}{2} \\\\\n",
    "    0 & 1 & \\delta_j \\\\\n",
    "    0 & 0 & 1\n",
    "    \\end{pmatrix} \\\\\n",
    "W_j & = \n",
    "    \\begin{pmatrix}\n",
    "    \\frac{\\delta_j^3}{3} \\sigma_U^2 + \\frac{\\delta_j^5}{20} \\sigma_A^2 &\n",
    "    \\frac{\\delta_j^2}{2} \\sigma_U^2 + \\frac{\\delta_j^4}{8} \\sigma_A^2 &\n",
    "    \\frac{\\delta_j^3}{6} \\sigma_A^2 \\\\\n",
    "    \\frac{\\delta_j^2}{2} \\sigma_U^2 + \\frac{\\delta_j^4}{8} \\sigma_A^2 &\n",
    "    \\delta_j \\sigma_U^2 + \\frac{\\delta_j^3}{3} \\sigma_A^2 &\n",
    "    \\frac{\\delta_j^2}{2} \\sigma_A^2 \\\\\n",
    "    \\frac{\\delta_j^3}{6} \\sigma_A^2 &\n",
    "    \\frac{\\delta_j^2}{2} \\sigma_A^2 &\n",
    "    \\delta_j \\sigma_A^2\n",
    "    \\end{pmatrix} \\\\\n",
    "\\theta_0 &\\sim \\mathcal{N}(0, \\mathrm{diag}(\\sigma^2_\\mu, \\sigma^2_\\mu, \\sigma^2_\\alpha))\n",
    "\\end{align}$$\n",
    "\n",
    "In the above, we take $\\delta_j \\equiv t_{j + 1} - t_j$ and assume $\\sigma^2_\\mu$ and $\\sigma^2_\\alpha$ are specified as part of the prior."
   ]
  },
  {
   "cell_type": "markdown",
   "metadata": {},
   "source": [
    "# Implementation"
   ]
  },
  {
   "cell_type": "code",
   "execution_count": 6,
   "metadata": {
    "collapsed": false
   },
   "outputs": [
    {
     "name": "stderr",
     "output_type": "stream",
     "text": [
      "INFO: Loading help data...\n"
     ]
    }
   ],
   "source": [
    "using NGPtools\n",
    "using PyPlot\n",
    "srand(12347)"
   ]
  },
  {
   "cell_type": "markdown",
   "metadata": {},
   "source": [
    "## Set up system matrices and dimensions"
   ]
  },
  {
   "cell_type": "code",
   "execution_count": 2,
   "metadata": {
    "collapsed": false
   },
   "outputs": [],
   "source": [
    "Nt = 100\n",
    "tobs = linspace(0, 1, Nt);"
   ]
  },
  {
   "cell_type": "code",
   "execution_count": 3,
   "metadata": {
    "collapsed": true
   },
   "outputs": [],
   "source": [
    "Np = 1\n",
    "Nm = 3\n",
    "Nr = 3\n",
    "\n",
    "σϵ = 1\n",
    "σA = 50\n",
    "σU = .25\n",
    "σμ = 3\n",
    "σα = 1.\n",
    "\n",
    "# we need as many deltas as observations\n",
    "# the last delta corresponds to a hypothetical point at which we want to make a \n",
    "# prediction about the state\n",
    "tpred = 1.1\n",
    "δ = diff([tobs, tpred]);"
   ]
  },
  {
   "cell_type": "markdown",
   "metadata": {},
   "source": [
    "## Create fake data"
   ]
  },
  {
   "cell_type": "code",
   "execution_count": 5,
   "metadata": {
    "collapsed": false
   },
   "outputs": [],
   "source": [
    "y, α = generate((Np, Nm, Nr), δ, σϵ, σU, σA, σμ, σα);"
   ]
  },
  {
   "cell_type": "code",
   "execution_count": 13,
   "metadata": {
    "collapsed": false
   },
   "outputs": [
    {
     "data": {
      "image/png": "[encoded data removed]",
      "text/plain": [
       "Figure(PyObject <matplotlib.figure.Figure object at 0x119c7d190>)"
      ]
     },
     "metadata": {},
     "output_type": "display_data"
    }
   ],
   "source": [
    "figure(figsize=(10, 4))\n",
    "scatter(tobs, y, label=\"data\");\n",
    "plot(tobs, α[1,:]')\n",
    "xlim(tobs[1], tobs[end]);"
   ]
  },
  {
   "cell_type": "code",
   "execution_count": null,
   "metadata": {
    "collapsed": true
   },
   "outputs": [],
   "source": []
  }
 ],
 "metadata": {
  "kernelspec": {
   "display_name": "Julia 0.3.11",
   "language": "julia",
   "name": "julia-0.3"
  },
  "language_info": {
   "name": "julia",
   "version": "0.3.11"
  }
 },
 "nbformat": 4,
 "nbformat_minor": 0
}
